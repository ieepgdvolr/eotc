{
 "cells": [
  {
   "cell_type": "code",
   "execution_count": 6,
   "id": "dd0a64cb",
   "metadata": {},
   "outputs": [
    {
     "name": "stdout",
     "output_type": "stream",
     "text": [
      "01001100\n",
      "2\n"
     ]
    }
   ],
   "source": [
    "strings = input()\n",
    "prev = strings[0]\n",
    "a, b = 0,0\n",
    "for i in range(1, len(strings)):\n",
    "    if prev != strings[i]:\n",
    "        if prev == '0' and strings[i] == '1' :\n",
    "            a += 1\n",
    "        elif prev == '1' and strings[i] == '0' :\n",
    "            b += 1\n",
    "        prev = strings[i]\n",
    "result = min(a, b)\n",
    "if strings[0] != strings[-1]:\n",
    "    result += 1\n",
    "print(result)"
   ]
  },
  {
   "cell_type": "code",
   "execution_count": 7,
   "id": "20bb252e",
   "metadata": {},
   "outputs": [
    {
     "name": "stdout",
     "output_type": "stream",
     "text": [
      "01001100\n",
      "2\n"
     ]
    }
   ],
   "source": [
    "s = input()\n",
    "group = 1\n",
    "pivot = s[0]\n",
    "\n",
    "for num in s:\n",
    "    if pivot != num:\n",
    "        group += 1\n",
    "        pivot = num\n",
    "        \n",
    "answer = group // 2\n",
    "print(answer)"
   ]
  }
 ],
 "metadata": {
  "kernelspec": {
   "display_name": "Python 3 (ipykernel)",
   "language": "python",
   "name": "python3"
  },
  "language_info": {
   "codemirror_mode": {
    "name": "ipython",
    "version": 3
   },
   "file_extension": ".py",
   "mimetype": "text/x-python",
   "name": "python",
   "nbconvert_exporter": "python",
   "pygments_lexer": "ipython3",
   "version": "3.9.7"
  }
 },
 "nbformat": 4,
 "nbformat_minor": 5
}
