{
 "cells": [
  {
   "cell_type": "code",
   "execution_count": 2,
   "id": "710bb7f1",
   "metadata": {},
   "outputs": [],
   "source": [
    "#1. 거스름돈\n",
    "def solution(N) :\n",
    "    count = 0\n",
    "    coins = [500, 100, 50, 10]\n",
    "    for coin in coins :\n",
    "        count += N // coin\n",
    "        N %= coin\n",
    "    return count"
   ]
  },
  {
   "cell_type": "code",
   "execution_count": 5,
   "id": "1d5309d4",
   "metadata": {},
   "outputs": [
    {
     "data": {
      "text/plain": [
       "10"
      ]
     },
     "execution_count": 5,
     "metadata": {},
     "output_type": "execute_result"
    }
   ],
   "source": [
    "solution(3170)"
   ]
  }
 ],
 "metadata": {
  "kernelspec": {
   "display_name": "Python 3 (ipykernel)",
   "language": "python",
   "name": "python3"
  },
  "language_info": {
   "codemirror_mode": {
    "name": "ipython",
    "version": 3
   },
   "file_extension": ".py",
   "mimetype": "text/x-python",
   "name": "python",
   "nbconvert_exporter": "python",
   "pygments_lexer": "ipython3",
   "version": "3.9.7"
  }
 },
 "nbformat": 4,
 "nbformat_minor": 5
}
