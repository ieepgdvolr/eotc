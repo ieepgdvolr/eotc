{
 "cells": [
  {
   "cell_type": "code",
   "execution_count": 1,
   "id": "0365dabc",
   "metadata": {},
   "outputs": [],
   "source": [
    "def solution(n, k) :\n",
    "    count = 0\n",
    "    while n != 1:\n",
    "        if n % k == 0:\n",
    "            n //= k\n",
    "        else:\n",
    "            n -= 1\n",
    "        count += 1\n",
    "    return count"
   ]
  },
  {
   "cell_type": "code",
   "execution_count": 4,
   "id": "37b219e0",
   "metadata": {},
   "outputs": [
    {
     "name": "stdout",
     "output_type": "stream",
     "text": [
      "25 5\n",
      "2\n"
     ]
    }
   ],
   "source": [
    "n, k = map(int, input().split())\n",
    "print(solution(n, k))"
   ]
  },
  {
   "cell_type": "code",
   "execution_count": 5,
   "id": "90890038",
   "metadata": {},
   "outputs": [],
   "source": [
    "def solution(n, k) :\n",
    "    count = 0\n",
    "    remainder = 0\n",
    "    while n != 1:\n",
    "        remainder += n % k\n",
    "        n //= k\n",
    "        count += 1\n",
    "    return count + remainder"
   ]
  },
  {
   "cell_type": "code",
   "execution_count": 7,
   "id": "634db352",
   "metadata": {},
   "outputs": [
    {
     "name": "stdout",
     "output_type": "stream",
     "text": [
      "25 5\n",
      "2\n"
     ]
    }
   ],
   "source": [
    "n, k = map(int, input().split())\n",
    "print(solution(n, k))"
   ]
  },
  {
   "cell_type": "code",
   "execution_count": 14,
   "id": "1258d80b",
   "metadata": {},
   "outputs": [],
   "source": [
    "def solution(n, k):\n",
    "    result = 0\n",
    "    while True:\n",
    "        target = (n // k) * k\n",
    "        result += (n - target) # 나머지 구하기\n",
    "        n = target\n",
    "        if n < k : \n",
    "            break\n",
    "        result += 1\n",
    "        n //= k \n",
    "    \n",
    "    result += (n - 1)\n",
    "    return result"
   ]
  },
  {
   "cell_type": "code",
   "execution_count": 15,
   "id": "bbdbf412",
   "metadata": {},
   "outputs": [
    {
     "name": "stdout",
     "output_type": "stream",
     "text": [
      "17 3\n",
      "6\n"
     ]
    }
   ],
   "source": [
    "n, k = map(int, input().split())\n",
    "print(solution(n, k))"
   ]
  }
 ],
 "metadata": {
  "kernelspec": {
   "display_name": "Python 3 (ipykernel)",
   "language": "python",
   "name": "python3"
  },
  "language_info": {
   "codemirror_mode": {
    "name": "ipython",
    "version": 3
   },
   "file_extension": ".py",
   "mimetype": "text/x-python",
   "name": "python",
   "nbconvert_exporter": "python",
   "pygments_lexer": "ipython3",
   "version": "3.9.7"
  }
 },
 "nbformat": 4,
 "nbformat_minor": 5
}
