{
 "cells": [
  {
   "cell_type": "code",
   "execution_count": 9,
   "id": "764c25b7",
   "metadata": {},
   "outputs": [],
   "source": [
    "# 1 <= food_times의 길이 <= 2*10^5\n",
    "# 1 <= food_times의 모든 원소 <= 10^9\n",
    "# 1 <= k <= 2*10^13\n",
    "# 파이썬 1초당 연산 횟수는 10^9 (10억)번이므로 당연히 시간 초과가 발생한다.\n",
    "\n",
    "\n",
    "# heapq를 사용해서 시간이 가장 적게 걸리는 원소부터 처리하자\n",
    "import heapq\n",
    "\n",
    "def solution(food_times, k):\n",
    "    answer = 0\n",
    "    \n",
    "    if sum(food_times) <= k:\n",
    "        return -1\n",
    "    \n",
    "    \n",
    "    q = []\n",
    "    for i in range(len(food_times)):\n",
    "        heapq.heappush(q, (food_times[i], i+1))\n",
    "\n",
    "    n = len(food_times)\n",
    "    previous_time = 0 # 이전에 음식 먹는데 걸리는 시간**\n",
    "    # '시간'이므로 바로 이전에 음식을 먹는데 걸린 시간만 저장하고, 현재 음식을 먹는데 걸리는 시간에서 빼주면 된다.\n",
    "    eating_time = 0\n",
    "    \n",
    "    while (q[0][0] - previous_time) * n <= k: # heappop() 한번 하는 시간 줄일 수 있음\n",
    "        time, now = heapq.heappop(q)\n",
    "        \n",
    "        eating_time = (time - previous_time) * n # now를 먹는데 걸리는 시간*(남은 음식 수)\n",
    "        if eating_time > k:\n",
    "            break\n",
    "            \n",
    "        k -= eating_time # 전체 남은 시간에서 now음식 먹는데 걸리는 시간 빼준다\n",
    "        n -= 1 # 남은 음식 -1\n",
    "        previous_time = time\n",
    "            \n",
    "    q.sort(key = lambda x:x[1]) #음식 원래 순서대로 정렬한다.\n",
    "    answer = q[k % n][1] \n",
    "\n",
    "    \n",
    "    return answer"
   ]
  },
  {
   "cell_type": "code",
   "execution_count": 10,
   "id": "b41506b9",
   "metadata": {},
   "outputs": [
    {
     "data": {
      "text/plain": [
       "1"
      ]
     },
     "execution_count": 10,
     "metadata": {},
     "output_type": "execute_result"
    }
   ],
   "source": [
    "solution([3, 1, 2],5)"
   ]
  },
  {
   "cell_type": "code",
   "execution_count": null,
   "id": "38bdba8f",
   "metadata": {},
   "outputs": [],
   "source": []
  }
 ],
 "metadata": {
  "kernelspec": {
   "display_name": "Python 3 (ipykernel)",
   "language": "python",
   "name": "python3"
  },
  "language_info": {
   "codemirror_mode": {
    "name": "ipython",
    "version": 3
   },
   "file_extension": ".py",
   "mimetype": "text/x-python",
   "name": "python",
   "nbconvert_exporter": "python",
   "pygments_lexer": "ipython3",
   "version": "3.9.7"
  }
 },
 "nbformat": 4,
 "nbformat_minor": 5
}
