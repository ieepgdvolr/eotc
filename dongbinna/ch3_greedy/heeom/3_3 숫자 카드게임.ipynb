{
 "cells": [
  {
   "cell_type": "code",
   "execution_count": 6,
   "id": "11f15405",
   "metadata": {},
   "outputs": [],
   "source": [
    "def solution() :\n",
    "    N, M = map(int, input().split())\n",
    "    max_card = -1\n",
    "    \n",
    "    for n in range(N):\n",
    "        cards = list(map(int, input().split()))\n",
    "        card = min(cards)\n",
    "        if max_card < card:\n",
    "            max_card = card\n",
    "            \n",
    "    print(max_card)"
   ]
  },
  {
   "cell_type": "code",
   "execution_count": 7,
   "id": "400a6f61",
   "metadata": {},
   "outputs": [
    {
     "name": "stdout",
     "output_type": "stream",
     "text": [
      "3 3\n",
      "3 1 2\n",
      "4 1 4\n",
      "2 2 2\n",
      "2\n"
     ]
    }
   ],
   "source": [
    "solution()"
   ]
  },
  {
   "cell_type": "code",
   "execution_count": 8,
   "id": "fbd73732",
   "metadata": {},
   "outputs": [
    {
     "name": "stdout",
     "output_type": "stream",
     "text": [
      "2 4\n",
      "7 3 1 8\n",
      "3 3 3 4\n",
      "3\n"
     ]
    }
   ],
   "source": [
    "solution()"
   ]
  }
 ],
 "metadata": {
  "kernelspec": {
   "display_name": "Python 3 (ipykernel)",
   "language": "python",
   "name": "python3"
  },
  "language_info": {
   "codemirror_mode": {
    "name": "ipython",
    "version": 3
   },
   "file_extension": ".py",
   "mimetype": "text/x-python",
   "name": "python",
   "nbconvert_exporter": "python",
   "pygments_lexer": "ipython3",
   "version": "3.9.7"
  }
 },
 "nbformat": 4,
 "nbformat_minor": 5
}
