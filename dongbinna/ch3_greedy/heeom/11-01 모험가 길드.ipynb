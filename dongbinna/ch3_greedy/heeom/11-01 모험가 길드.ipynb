{
 "cells": [
  {
   "cell_type": "code",
   "execution_count": 1,
   "id": "73734925",
   "metadata": {},
   "outputs": [],
   "source": [
    "def solution(n, adventurers):\n",
    "    adventurers.sort()\n",
    "    total = 0\n",
    "    group = 0\n",
    "    fear = adventurers[0]\n",
    "\n",
    "    for i in range(n):\n",
    "        group += 1\n",
    "        if fear == adventurers[i]:\n",
    "            if fear == group:\n",
    "                total += 1\n",
    "                group = 0\n",
    "        else:\n",
    "            fear = adventurers[i]\n",
    "        \n",
    "        # group 인원 + 남아있는 사람 < 공포도 \n",
    "        if n-i-1 + group < fear:\n",
    "            break\n",
    "\n",
    "    return total"
   ]
  },
  {
   "cell_type": "code",
   "execution_count": 5,
   "id": "e30076ce",
   "metadata": {},
   "outputs": [
    {
     "name": "stdout",
     "output_type": "stream",
     "text": [
      "5\n",
      "1 4 4 2 4 \n"
     ]
    },
    {
     "data": {
      "text/plain": [
       "2"
      ]
     },
     "execution_count": 5,
     "metadata": {},
     "output_type": "execute_result"
    }
   ],
   "source": [
    "n = int(input())\n",
    "adventurers = list(map(int, input().split()))\n",
    "solution(n, adventurers)"
   ]
  },
  {
   "cell_type": "code",
   "execution_count": 9,
   "id": "9850afb1",
   "metadata": {},
   "outputs": [],
   "source": [
    "def solution(n, adventurers):\n",
    "    adventurers.sort()\n",
    "    total = 0\n",
    "    group = 0\n",
    "    fear = adventurers[0]\n",
    "\n",
    "    for i in range(n):\n",
    "        group += 1\n",
    "        # group 인원 + 남아있는 사람 < 공포도 \n",
    "        if n-i-1 + group < adventurers[i]:\n",
    "            break\n",
    "            \n",
    "        if adventurers[i] <= group:\n",
    "            group = 0\n",
    "            total += 1\n",
    "\n",
    "    return total"
   ]
  },
  {
   "cell_type": "code",
   "execution_count": 10,
   "id": "8e578532",
   "metadata": {},
   "outputs": [
    {
     "name": "stdout",
     "output_type": "stream",
     "text": [
      "5\n",
      "1 2 4 5 5 \n"
     ]
    },
    {
     "data": {
      "text/plain": [
       "1"
      ]
     },
     "execution_count": 10,
     "metadata": {},
     "output_type": "execute_result"
    }
   ],
   "source": [
    "n = int(input())\n",
    "adventurers = list(map(int, input().split()))\n",
    "solution(n, adventurers)"
   ]
  }
 ],
 "metadata": {
  "kernelspec": {
   "display_name": "Python 3 (ipykernel)",
   "language": "python",
   "name": "python3"
  },
  "language_info": {
   "codemirror_mode": {
    "name": "ipython",
    "version": 3
   },
   "file_extension": ".py",
   "mimetype": "text/x-python",
   "name": "python",
   "nbconvert_exporter": "python",
   "pygments_lexer": "ipython3",
   "version": "3.9.7"
  }
 },
 "nbformat": 4,
 "nbformat_minor": 5
}
