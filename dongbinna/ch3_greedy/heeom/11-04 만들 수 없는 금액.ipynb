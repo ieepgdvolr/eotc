{
 "cells": [
  {
   "cell_type": "code",
   "execution_count": 4,
   "id": "b0928972",
   "metadata": {},
   "outputs": [
    {
     "name": "stdout",
     "output_type": "stream",
     "text": [
      "5\n",
      "3 2 1 1 9\n",
      "8\n"
     ]
    }
   ],
   "source": [
    "from itertools import combinations\n",
    "\n",
    "n = int(input())\n",
    "numbers = list(map(int, input().split()))\n",
    "numbers.sort()\n",
    "arrays = [0 for _ in range(n * numbers[-1])]\n",
    "\n",
    "if numbers[0] > 1:\n",
    "    print(1)\n",
    "else:\n",
    "    for i in range(n):\n",
    "        arrays[numbers[i]] = 1\n",
    "        for c in list(combinations(numbers, i)):\n",
    "            arrays[sum(c)] = 1\n",
    "        \n",
    "    for i in range(len(arrays)):\n",
    "        if arrays[i] == 0:\n",
    "            print(i)\n",
    "            break"
   ]
  },
  {
   "cell_type": "code",
   "execution_count": 5,
   "id": "9d4ec1f7",
   "metadata": {},
   "outputs": [
    {
     "name": "stdout",
     "output_type": "stream",
     "text": [
      "5\n",
      "3 2 1 1 9\n",
      "8\n"
     ]
    }
   ],
   "source": [
    "# target 금액을 만들 수 있는 지 확인\n",
    "n = int(input())\n",
    "coins = list(map(int, input().split()))\n",
    "coins.sort()\n",
    "\n",
    "target = 1\n",
    "\n",
    "for c in coins:\n",
    "    if target < c:\n",
    "        break\n",
    "    target += c\n",
    "    \n",
    "print(target)"
   ]
  }
 ],
 "metadata": {
  "kernelspec": {
   "display_name": "Python 3 (ipykernel)",
   "language": "python",
   "name": "python3"
  },
  "language_info": {
   "codemirror_mode": {
    "name": "ipython",
    "version": 3
   },
   "file_extension": ".py",
   "mimetype": "text/x-python",
   "name": "python",
   "nbconvert_exporter": "python",
   "pygments_lexer": "ipython3",
   "version": "3.9.7"
  }
 },
 "nbformat": 4,
 "nbformat_minor": 5
}
