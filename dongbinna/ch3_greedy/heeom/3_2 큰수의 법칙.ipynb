{
 "cells": [
  {
   "cell_type": "code",
   "execution_count": 8,
   "id": "aeba07b5",
   "metadata": {},
   "outputs": [],
   "source": [
    "def solution(M, K, numbers) :\n",
    "    nums = list(set(numbers))\n",
    "    nums.sort(reverse = True)\n",
    "    \n",
    "    first = nums[0]\n",
    "    second = nums[1]\n",
    "    \n",
    "    q = M // (K+1)\n",
    "    r = M % (K+1)\n",
    "    \n",
    "    return q * (first * k + second) + r * first"
   ]
  },
  {
   "cell_type": "code",
   "execution_count": 11,
   "id": "7dd10c9f",
   "metadata": {},
   "outputs": [
    {
     "name": "stdout",
     "output_type": "stream",
     "text": [
      "5 8 3\n",
      "2 4 5 4 6\n"
     ]
    }
   ],
   "source": [
    "n, m, k = map(int, input().split())\n",
    "numbers = list(map(int, input().split()))"
   ]
  },
  {
   "cell_type": "code",
   "execution_count": 12,
   "id": "112b33b8",
   "metadata": {},
   "outputs": [
    {
     "data": {
      "text/plain": [
       "46"
      ]
     },
     "execution_count": 12,
     "metadata": {},
     "output_type": "execute_result"
    }
   ],
   "source": [
    "solution(m, k, numbers)"
   ]
  }
 ],
 "metadata": {
  "kernelspec": {
   "display_name": "Python 3 (ipykernel)",
   "language": "python",
   "name": "python3"
  },
  "language_info": {
   "codemirror_mode": {
    "name": "ipython",
    "version": 3
   },
   "file_extension": ".py",
   "mimetype": "text/x-python",
   "name": "python",
   "nbconvert_exporter": "python",
   "pygments_lexer": "ipython3",
   "version": "3.9.7"
  }
 },
 "nbformat": 4,
 "nbformat_minor": 5
}
